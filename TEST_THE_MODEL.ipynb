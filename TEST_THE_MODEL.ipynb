{
 "cells": [
  {
   "cell_type": "code",
   "execution_count": null,
   "id": "978075f9-2e49-4200-93a3-bb055b826a1c",
   "metadata": {},
   "outputs": [
    {
     "name": "stdout",
     "output_type": "stream",
     "text": [
      "Categories\n",
      ".......................\n",
      "0   Käyttöoikeudet\n",
      "1   Järjestelmäpalvelut\n",
      "2   Työasemasovellus\n",
      "3   Työasemat\n",
      "4   Oheislaitteet\n",
      "5   Mobiililaite\n",
      "6   Muut\n",
      "7   Puhelinpalvelut\n",
      "8   Etäyhteydet\n",
      "9   Elinkaari\n",
      "10   Tietoliikenne\n",
      ".......................\n"
     ]
    }
   ],
   "source": [
    "'''\n",
    "Hi! You can test my model here! It is trained in Finnish, and therefore, won't be able to understand\n",
    "English.\n",
    "'''\n",
    "\n",
    "from nltk.tokenize import word_tokenize\n",
    "from keras.models import load_model\n",
    "from gensim.models import Word2Vec\n",
    "#import nltk\n",
    "#nltk.download('punkt')\n",
    "from gensim.models import word2vec\n",
    "import numpy as np\n",
    "from tensorflow.keras.preprocessing.sequence import pad_sequences\n",
    "from tensorflow.keras.models import load_model\n",
    "#----------------------------------------------------------\n",
    "#Makes word to vectors according to saved model.\n",
    "def w2v_indexed_token_sequences(w2v_model, list_features):\n",
    "    indexed_features = []\n",
    "    for each_seq in list_features:\n",
    "        list_token_indices = []\n",
    "        for each_token in each_seq:\n",
    "            try:\n",
    "                list_token_indices.append(w2v_model.wv.key_to_index[each_token])\n",
    "            except KeyError as e:\n",
    "                continue\n",
    "        indexed_features.append(list_token_indices)\n",
    "    return indexed_features\n",
    "#-----------------------------------------------------------\n",
    "#Load Keras model and wordlibrary model. Load also categories.\n",
    "model_with_w2v = load_model('my_model.h5')\n",
    "w2v_model = Word2Vec.load(\"word2vec_model.bin\")\n",
    "categorynames = np.loadtxt(\"Kategoriat.txt\", encoding=\"UTF-8\", dtype=str)\n",
    "print(\"Categories\")\n",
    "print(\".......................\")\n",
    "for x in range(len(categorynames)):\n",
    "    print(x, \" \", categorynames[x])\n",
    "print(\".......................\")\n",
    "#------------------------------------------------------------\n",
    "#Testilause\n",
    "sentence = input(\"Syötä testilause\").lower()\n",
    "tokens = word_tokenize(sentence)\n",
    "print(\"Testattava lause:\", sentence)\n",
    "#--------------------------------------------------------------\n",
    "#Vectorize\n",
    "tokens = np.array(tokens)\n",
    "tokens = tokens.reshape(1,-1)\n",
    "indexed_test_features = w2v_indexed_token_sequences(w2v_model, tokens)\n",
    "padded_test = pad_sequences(indexed_test_features, padding = 'post', maxlen=5, truncating='post')\n",
    "#-------------------------------------------------------------\n",
    "#Make a prediction\n",
    "def prediction(padded_test,categorynames):\n",
    "    predictions = model_with_w2v.predict(padded_test)\n",
    "    print(\"predictions percent per group\", np.round(100*predictions,2))\n",
    "\n",
    "    print(\"ENNUSTE: Kuuluu ryhmään \", np.argmax(predictions), \"\" , categorynames[np.argmax(predictions)] , \" todennäköisyydellä \", \n",
    "      round(100*predictions[0,np.argmax(predictions)],2),\"%\")\n",
    "\n",
    "    return categorynames[np.argmax(predictions)]\n",
    "\n",
    "prediction(padded_test,categorynames)"
   ]
  },
  {
   "cell_type": "code",
   "execution_count": null,
   "id": "78d14a3f-c7a8-426b-9d14-23c7ae7a66fb",
   "metadata": {},
   "outputs": [],
   "source": []
  }
 ],
 "metadata": {
  "kernelspec": {
   "display_name": "Python 3 (ipykernel)",
   "language": "python",
   "name": "python3"
  },
  "language_info": {
   "codemirror_mode": {
    "name": "ipython",
    "version": 3
   },
   "file_extension": ".py",
   "mimetype": "text/x-python",
   "name": "python",
   "nbconvert_exporter": "python",
   "pygments_lexer": "ipython3",
   "version": "3.11.4"
  }
 },
 "nbformat": 4,
 "nbformat_minor": 5
}
